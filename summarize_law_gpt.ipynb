{
 "cells": [
  {
   "cell_type": "code",
   "outputs": [],
   "source": [
    "# https://python.langchain.com/docs/use_cases/summarization"
   ],
   "metadata": {
    "collapsed": false,
    "ExecuteTime": {
     "end_time": "2024-03-07T22:48:23.945525900Z",
     "start_time": "2024-03-07T22:48:23.875679800Z"
    }
   },
   "id": "f67a2cffe2a605f0",
   "execution_count": 13
  },
  {
   "cell_type": "code",
   "outputs": [
    {
     "data": {
      "text/plain": "True"
     },
     "execution_count": 14,
     "metadata": {},
     "output_type": "execute_result"
    }
   ],
   "source": [
    "# API 키를 환경변수로 관리하기 위한 설정 파일\n",
    "from dotenv import load_dotenv\n",
    "\n",
    "# API 키 정보 로드\n",
    "load_dotenv()"
   ],
   "metadata": {
    "collapsed": true,
    "ExecuteTime": {
     "end_time": "2024-03-07T22:48:23.948906700Z",
     "start_time": "2024-03-07T22:48:23.891391900Z"
    }
   },
   "id": "initial_id",
   "execution_count": 14
  },
  {
   "cell_type": "markdown",
   "source": [
    "# 문서 로드(Load Documents)"
   ],
   "metadata": {
    "collapsed": false
   },
   "id": "20d07285c7069bdf"
  },
  {
   "cell_type": "code",
   "outputs": [],
   "source": [
    "from langchain import hub\n",
    "from langchain.text_splitter import RecursiveCharacterTextSplitter\n",
    "from langchain_community.document_loaders import WebBaseLoader\n",
    "from langchain_community.vectorstores import Chroma, FAISS\n",
    "from langchain_core.output_parsers import StrOutputParser\n",
    "from langchain_core.runnables import RunnablePassthrough\n",
    "from langchain_openai import ChatOpenAI"
   ],
   "metadata": {
    "collapsed": false,
    "ExecuteTime": {
     "end_time": "2024-03-07T22:48:23.949410700Z",
     "start_time": "2024-03-07T22:48:23.906930900Z"
    }
   },
   "id": "65b4167d1db9adee",
   "execution_count": 15
  },
  {
   "cell_type": "code",
   "outputs": [],
   "source": [
    "# from langchain_community.document_loaders import DirectoryLoader\n",
    "# \n",
    "# loader = DirectoryLoader(\".\", glob=\"data/*.pdf\", show_progress=True)\n",
    "# docs = loader.load()"
   ],
   "metadata": {
    "collapsed": false,
    "ExecuteTime": {
     "end_time": "2024-03-07T22:48:23.949410700Z",
     "start_time": "2024-03-07T22:48:23.922566300Z"
    }
   },
   "id": "44133f8f02f1b92c",
   "execution_count": 16
  },
  {
   "cell_type": "code",
   "outputs": [],
   "source": [
    "from langchain.document_loaders import PyPDFLoader\n",
    "\n",
    "# PDF 파일 로드. 파일의 경로 입력\n",
    "loader = PyPDFLoader(\"data/개인정보 보호법(법률)(제19234호)(20240315).pdf\")\n",
    "\n",
    "# 페이지 별 문서 로드\n",
    "docs = loader.load_and_split()"
   ],
   "metadata": {
    "collapsed": false,
    "ExecuteTime": {
     "end_time": "2024-03-07T22:48:24.493910200Z",
     "start_time": "2024-03-07T22:48:23.945525900Z"
    }
   },
   "id": "b527f7f308947fc2",
   "execution_count": 17
  },
  {
   "cell_type": "code",
   "outputs": [
    {
     "name": "stdout",
     "output_type": "stream",
     "text": [
      "문서의 수: 41\n",
      "\n",
      "[메타데이터]\n",
      "\n",
      "{'source': 'data/개인정보 보호법(법률)(제19234호)(20240315).pdf', 'page': 0}\n",
      "\n",
      "========= [앞부분] 미리보기 =========\n",
      "\n"
     ]
    }
   ],
   "source": [
    "print(f\"문서의 수: {len(docs)}\\n\")\n",
    "print(\"[메타데이터]\\n\")\n",
    "print(docs[0].metadata)\n",
    "print(\"\\n========= [앞부분] 미리보기 =========\\n\")\n",
    "print(docs[0].page_content[2500:2600])"
   ],
   "metadata": {
    "collapsed": false,
    "ExecuteTime": {
     "end_time": "2024-03-07T22:48:24.511888100Z",
     "start_time": "2024-03-07T22:48:24.493910200Z"
    }
   },
   "id": "fa35b595766dd7e1",
   "execution_count": 18
  },
  {
   "cell_type": "markdown",
   "source": [
    "# 프롬프트\n",
    "* 프롬프트 엔지니어링\n",
    "    - 주어진 데이터(context)를 토대로 우리가 원하는 결과를 도출할 때 중요한 역할을 함"
   ],
   "metadata": {
    "collapsed": false
   },
   "id": "216f86e615d0ff95"
  },
  {
   "cell_type": "markdown",
   "source": [
    "# 언어모델 생성(Create LLM)"
   ],
   "metadata": {
    "collapsed": false
   },
   "id": "233b7397751af9f8"
  },
  {
   "cell_type": "code",
   "execution_count": 19,
   "outputs": [],
   "source": [
    "llm = ChatOpenAI(temperature=0, model=\"gpt-3.5-turbo-0125\")"
   ],
   "metadata": {
    "collapsed": false,
    "ExecuteTime": {
     "end_time": "2024-03-07T22:48:24.863214600Z",
     "start_time": "2024-03-07T22:48:24.511888100Z"
    }
   },
   "id": "e6b48904c631343e"
  },
  {
   "cell_type": "code",
   "execution_count": 20,
   "outputs": [],
   "source": [
    "# from langchain import hub\n",
    "# from langchain.chains import LLMChain\n",
    "# \n",
    "# map_prompt = hub.pull(\"rlm/map-prompt\")\n",
    "# map_chain = LLMChain(llm=llm, prompt=map_prompt)"
   ],
   "metadata": {
    "collapsed": false,
    "ExecuteTime": {
     "end_time": "2024-03-07T22:48:24.881759400Z",
     "start_time": "2024-03-07T22:48:24.863214600Z"
    }
   },
   "id": "254078f4f5a7fdb6"
  },
  {
   "cell_type": "code",
   "execution_count": 21,
   "outputs": [],
   "source": [
    "from langchain.chains import LLMChain\n",
    "from langchain_core.prompts import PromptTemplate\n",
    "\n",
    "# Map\n",
    "map_template = \"\"\"The following is a set of documents\n",
    "{docs}\n",
    "Based on this list of docs, please identify the main themes \n",
    "Helpful Answer:\"\"\"\n",
    "map_prompt = PromptTemplate.from_template(map_template)\n",
    "map_chain = LLMChain(llm=llm, prompt=map_prompt)"
   ],
   "metadata": {
    "collapsed": false,
    "ExecuteTime": {
     "end_time": "2024-03-07T22:48:24.906275700Z",
     "start_time": "2024-03-07T22:48:24.881759400Z"
    }
   },
   "id": "56a6c930ff42a327"
  },
  {
   "cell_type": "code",
   "execution_count": 22,
   "outputs": [],
   "source": [
    "# Note we can also get this from the prompt hub, as noted above\n",
    "# reduce_prompt = hub.pull(\"rlm/reduce-prompt\")"
   ],
   "metadata": {
    "collapsed": false,
    "ExecuteTime": {
     "end_time": "2024-03-07T22:48:24.925043300Z",
     "start_time": "2024-03-07T22:48:24.906275700Z"
    }
   },
   "id": "6e6264e753ed4fcc"
  },
  {
   "cell_type": "code",
   "execution_count": 23,
   "outputs": [],
   "source": [
    "# Reduce\n",
    "reduce_template = \"\"\"The following is set of summaries:\n",
    "{docs}\n",
    "Take these and distill it into a final, consolidated summary of the main themes. \n",
    "Helpful Answer:\"\"\"\n",
    "reduce_prompt = PromptTemplate.from_template(reduce_template)"
   ],
   "metadata": {
    "collapsed": false,
    "ExecuteTime": {
     "end_time": "2024-03-07T22:48:24.941034600Z",
     "start_time": "2024-03-07T22:48:24.925043300Z"
    }
   },
   "id": "c72811ecf4a4d004"
  },
  {
   "cell_type": "code",
   "execution_count": 24,
   "outputs": [],
   "source": [
    "from langchain_text_splitters import CharacterTextSplitter\n",
    "from langchain.chains import MapReduceDocumentsChain, ReduceDocumentsChain, StuffDocumentsChain\n",
    "\n",
    "reduce_chain = LLMChain(llm=llm, prompt=reduce_prompt)\n",
    "\n",
    "# Takes a list of documents, combines them into a single string, and passes this to an LLMChain\n",
    "combine_documents_chain = StuffDocumentsChain(\n",
    "    llm_chain=reduce_chain, document_variable_name=\"docs\"\n",
    ")\n",
    "\n",
    "# Combines and iteratively reduces the mapped documents\n",
    "reduce_documents_chain = ReduceDocumentsChain(\n",
    "    # This is final chain that is called.\n",
    "    combine_documents_chain=combine_documents_chain,\n",
    "    # If documents exceed context for `StuffDocumentsChain`\n",
    "    collapse_documents_chain=combine_documents_chain,\n",
    "    # The maximum number of tokens to group documents into.\n",
    "    token_max=4000,\n",
    ")\n",
    "\n",
    "# Combining documents by mapping a chain over them, then combining results\n",
    "map_reduce_chain = MapReduceDocumentsChain(\n",
    "    # Map chain\n",
    "    llm_chain=map_chain,\n",
    "    # Reduce chain\n",
    "    reduce_documents_chain=reduce_documents_chain,\n",
    "    # The variable name in the llm_chain to put the documents in\n",
    "    document_variable_name=\"docs\",\n",
    "    # Return the results of the map steps in the output\n",
    "    return_intermediate_steps=False,\n",
    ")\n",
    "\n",
    "text_splitter = CharacterTextSplitter.from_tiktoken_encoder(\n",
    "    chunk_size=1000, chunk_overlap=0\n",
    ")\n",
    "split_docs = text_splitter.split_documents(docs)"
   ],
   "metadata": {
    "collapsed": false,
    "ExecuteTime": {
     "end_time": "2024-03-07T22:48:25.194504100Z",
     "start_time": "2024-03-07T22:48:24.941034600Z"
    }
   },
   "id": "fea108dde6d63cf9"
  },
  {
   "cell_type": "code",
   "outputs": [
    {
     "name": "stderr",
     "output_type": "stream",
     "text": [
      "C:\\Users\\dukim\\miniconda3\\envs\\lang_test\\lib\\site-packages\\langchain_core\\_api\\deprecation.py:117: LangChainDeprecationWarning: The function `run` was deprecated in LangChain 0.1.0 and will be removed in 0.2.0. Use invoke instead.\n",
      "  warn_deprecated(\n"
     ]
    },
    {
     "name": "stdout",
     "output_type": "stream",
     "text": [
      "The main themes of the documents provided revolve around the protection of personal information, including regulations, guidelines, and enforcement measures related to the handling, processing, and transfer of personal data. Key topics include the establishment of personal information protection laws, the rights and responsibilities of information subjects and processors, compliance with regulations, oversight by the Protection Commission, international data transfer, dispute resolution mechanisms, enforcement of penalties for violations, and the importance of transparency, consent, and security measures in personal information processing. Additionally, there is a focus on specific areas such as the appointment of personal information protection managers, certification standards, impact assessments, collective lawsuits, and fines for non-compliance with personal information protection laws.\n"
     ]
    }
   ],
   "source": [
    "print(map_reduce_chain.run(split_docs))"
   ],
   "metadata": {
    "collapsed": false,
    "ExecuteTime": {
     "end_time": "2024-03-07T22:50:54.968487500Z",
     "start_time": "2024-03-07T22:48:25.194504100Z"
    }
   },
   "id": "ee0364776b6ebcbc",
   "execution_count": 25
  },
  {
   "cell_type": "code",
   "outputs": [],
   "source": [],
   "metadata": {
    "collapsed": false,
    "ExecuteTime": {
     "end_time": "2024-03-07T22:50:54.973082400Z",
     "start_time": "2024-03-07T22:50:54.968487500Z"
    }
   },
   "id": "3933f6ba36a40ed7",
   "execution_count": 25
  },
  {
   "cell_type": "code",
   "outputs": [],
   "source": [],
   "metadata": {
    "collapsed": false,
    "ExecuteTime": {
     "end_time": "2024-03-07T22:50:54.976441Z",
     "start_time": "2024-03-07T22:50:54.973082400Z"
    }
   },
   "id": "ccf306ecbb9de296",
   "execution_count": 25
  },
  {
   "cell_type": "code",
   "outputs": [],
   "source": [],
   "metadata": {
    "collapsed": false,
    "ExecuteTime": {
     "end_time": "2024-03-07T22:50:55.002303400Z",
     "start_time": "2024-03-07T22:50:54.976441Z"
    }
   },
   "id": "ecfdfc215f6c6ff2",
   "execution_count": 25
  }
 ],
 "metadata": {
  "kernelspec": {
   "display_name": "Python 3",
   "language": "python",
   "name": "python3"
  },
  "language_info": {
   "codemirror_mode": {
    "name": "ipython",
    "version": 2
   },
   "file_extension": ".py",
   "mimetype": "text/x-python",
   "name": "python",
   "nbconvert_exporter": "python",
   "pygments_lexer": "ipython2",
   "version": "2.7.6"
  }
 },
 "nbformat": 4,
 "nbformat_minor": 5
}
